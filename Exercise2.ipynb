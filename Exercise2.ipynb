{
  "nbformat": 4,
  "nbformat_minor": 0,
  "metadata": {
    "colab": {
      "name": "Exercise2.ipynb",
      "provenance": [],
      "collapsed_sections": [],
      "authorship_tag": "ABX9TyMHW2ubgsKWwpmwqh/NcoAo",
      "include_colab_link": true
    },
    "kernelspec": {
      "name": "python3",
      "display_name": "Python 3"
    },
    "language_info": {
      "name": "python"
    }
  },
  "cells": [
    {
      "cell_type": "markdown",
      "metadata": {
        "id": "view-in-github",
        "colab_type": "text"
      },
      "source": [
        "<a href=\"https://colab.research.google.com/github/dickyadem/MSIB-2-Orbit-Foundation-of-AI/blob/main/Exercise2.ipynb\" target=\"_parent\"><img src=\"https://colab.research.google.com/assets/colab-badge.svg\" alt=\"Open In Colab\"/></a>"
      ]
    },
    {
      "cell_type": "code",
      "source": [
        ""
      ],
      "metadata": {
        "id": "dd_zxmIPcXJj"
      },
      "execution_count": null,
      "outputs": []
    },
    {
      "cell_type": "markdown",
      "source": [
        "<p>Nama : Dicky Ade Mahendra <break></break></p>\n",
        "<p> Nama Perguruan tinggi : Universitas Gunadarma </p>"
      ],
      "metadata": {
        "id": "bDn7XgZSzCev"
      }
    },
    {
      "cell_type": "code",
      "source": [
        "#persegi\n",
        "\n",
        "sisi = input(\"masukan sisi :\")\n",
        "sisi = int(sisi)\n",
        "keliling = 4 * sisi\n",
        "luas = sisi * sisi\n",
        "print(\"keliling persegi :\", keliling ,\"\\nluas persegi :\", luas)"
      ],
      "metadata": {
        "colab": {
          "base_uri": "https://localhost:8080/"
        },
        "id": "eGeu3x6Nzx2t",
        "outputId": "f2ec138f-525f-43ec-8ffc-f663c0c2b5fe"
      },
      "execution_count": null,
      "outputs": [
        {
          "output_type": "stream",
          "name": "stdout",
          "text": [
            "masukan sisi :3\n",
            "keliling persegi : 12 \n",
            "luas persegi : 9\n"
          ]
        }
      ]
    },
    {
      "cell_type": "code",
      "source": [
        "#persegi panjang\n",
        "\n",
        "panjang = input(\"masukan panjang :\")\n",
        "panjang = float(panjang)\n",
        "lebar = input(\"masukan lebar:\")\n",
        "\n",
        "lebar = float(lebar)\n",
        "luas = panjang * lebar\n",
        "keliling = 2 * (panjang + luas)\n",
        "\n",
        "print(\"keliling persegi panjang :\", keliling ,\"\\nluas persegi panjang :\", luas)"
      ],
      "metadata": {
        "colab": {
          "base_uri": "https://localhost:8080/"
        },
        "id": "-L1OZYt62MMg",
        "outputId": "2b401a47-6784-4c8b-95c0-2c1c81aa51db"
      },
      "execution_count": null,
      "outputs": [
        {
          "output_type": "stream",
          "name": "stdout",
          "text": [
            "masukan panjang :2\n",
            "masukan lebar:3\n",
            "keliling persegi : 16.0 \n",
            "luas persegi : 6.0\n"
          ]
        }
      ]
    },
    {
      "cell_type": "code",
      "source": [
        "#jajar genjang\n",
        "a = input(\"masukan alas :\")\n",
        "a = float(a)\n",
        "b = input(\"masukan sisi miring  :\")\n",
        "b = float(b)\n",
        "t = float(input(\"masukan tinggi :\"))\n",
        "\n",
        "luas = a * t\n",
        "keliling = 2 * (a + b)\n",
        "\n",
        "print(\"keliling jajar genjang :\", keliling ,\"\\nluas jajar genjang :\", luas)"
      ],
      "metadata": {
        "colab": {
          "base_uri": "https://localhost:8080/"
        },
        "id": "MJ8SSdWv5iia",
        "outputId": "10ebe649-d2a6-4534-dd8b-d7f7a7d4eb0d"
      },
      "execution_count": null,
      "outputs": [
        {
          "output_type": "stream",
          "name": "stdout",
          "text": [
            "masukan alas :2\n",
            "masukan sisi miring  :3\n",
            "masukan t:4\n",
            "keliling persegi : 10.0 \n",
            "luas persegi : 8.0\n"
          ]
        }
      ]
    },
    {
      "cell_type": "code",
      "source": [
        "#trapesium\n",
        "a = float(input(\"masukan sisi sejajar :\"))\n",
        "b = float(input(\"masukan sisi sejajar2 :\"))\n",
        "c = float(input(\"masukan sisi miring1  :\"))\n",
        "d = float(input(\"masukan sisi miring2  :\"))\n",
        "t = float(input(\"masukan tinggi :\"))\n",
        "\n",
        "luas = 1/2 *(a + b) * t\n",
        "keliling = a + b + c + d\n",
        "\n",
        "print(\"keliling trapesium :\", keliling ,\"\\nluas trapesium :\", luas)"
      ],
      "metadata": {
        "colab": {
          "base_uri": "https://localhost:8080/"
        },
        "id": "5tuoz6Jk-Jai",
        "outputId": "af3e6a92-42ba-4724-97cb-de44f2d31769"
      },
      "execution_count": null,
      "outputs": [
        {
          "output_type": "stream",
          "name": "stdout",
          "text": [
            "masukan sisi sejajar :2\n",
            "masukan sisi sejajar2 :3\n",
            "masukan sisi miring1  :4\n",
            "masukan sisi miring2  :1\n",
            "masukan tinggi :1\n",
            "keliling persegi : 10.0 \n",
            "luas persegi : 2.5\n"
          ]
        }
      ]
    },
    {
      "cell_type": "code",
      "source": [
        "#layang - layang\n",
        "a = float(input(\"masukan sisi  :\"))\n",
        "b = float(input(\"masukan sisi2  :\"))\n",
        "d1 = float(input(\"masukan diagonal1 :\"))\n",
        "d2 = float(input(\"masukan diagonal2  :\"))\n",
        "\n",
        "\n",
        "luas = 1/2 * d1 * d2\n",
        "keliling = 2 * (a + b)\n",
        "\n",
        "print(\"keliling layang - layang :\", keliling ,\"\\nluas layang - layang :\", luas)"
      ],
      "metadata": {
        "colab": {
          "base_uri": "https://localhost:8080/"
        },
        "id": "EDD6UFmq--Yp",
        "outputId": "139df360-ab30-4d36-84eb-54d00a6c4495"
      },
      "execution_count": null,
      "outputs": [
        {
          "output_type": "stream",
          "name": "stdout",
          "text": [
            "masukan sisi  :4\n",
            "masukan sisi2  :3\n",
            "masukan diagonal1 :6\n",
            "masukan diagonal2  :7\n",
            "keliling persegi : 14.0 \n",
            "luas persegi : 21.0\n"
          ]
        }
      ]
    },
    {
      "cell_type": "code",
      "source": [
        "#belah ketupat\n",
        "s = float(input(\"masukan sisi  :\"))\n",
        "d1 = float(input(\"masukan diagonal1 :\"))\n",
        "d2 = float(input(\"masukan diagonal2  :\"))\n",
        "\n",
        "\n",
        "luas = 1/2 * d1 * d2\n",
        "keliling = 4*s\n",
        "\n",
        "print(\"keliling belah ketupat :\", keliling ,\"\\nluas belah ketupat :\", luas)\n"
      ],
      "metadata": {
        "colab": {
          "base_uri": "https://localhost:8080/"
        },
        "id": "XxE_D9_uEt9o",
        "outputId": "e8ff28da-821a-4285-c216-6904f738333a"
      },
      "execution_count": null,
      "outputs": [
        {
          "output_type": "stream",
          "name": "stdout",
          "text": [
            "masukan sisi  :3\n",
            "masukan diagonal1 :4\n",
            "masukan diagonal2  :3\n",
            "keliling persegi : 12.0 \n",
            "luas persegi : 6.0\n"
          ]
        }
      ]
    },
    {
      "cell_type": "code",
      "source": [
        "#segitiga \n",
        "a = float(input(\"masukan sisi  :\"))\n",
        "b = float(input(\"masukan sisi2  :\"))\n",
        "c = float(input(\"masukan sisi3 :\"))\n",
        "t = float(input(\"masukan tinggi  :\"))\n",
        "\n",
        "\n",
        "luas = 1/2 * a * t\n",
        "keliling = a + b + c\n",
        "\n",
        "print(\"keliling segitiga :\", keliling ,\"\\nluas segitiga :\", luas)"
      ],
      "metadata": {
        "colab": {
          "base_uri": "https://localhost:8080/"
        },
        "id": "11MBOUiXFhtV",
        "outputId": "25a193ba-4847-44c2-80ea-fdaf2a5768f9"
      },
      "execution_count": null,
      "outputs": [
        {
          "output_type": "stream",
          "name": "stdout",
          "text": [
            "masukan sisi  :4\n",
            "masukan sisi2  :2\n",
            "masukan sisi3 :4\n",
            "masukan tinggi  :4\n",
            "keliling layang - layang : 10.0 \n",
            "luas layang - layang : 8.0\n"
          ]
        }
      ]
    },
    {
      "cell_type": "code",
      "source": [
        "#lingkaran\n",
        "r = float(input(\"masukan jari - jari :\"))\n",
        "n = float(input(\"masukan n 22/7 atau 3.14: \"))\n",
        "\n",
        "keliling =2 * n * r\n",
        "luas = n * r * r\n",
        "print(\"keliling lingkaran :\", keliling ,\"\\nluas lingkaran :\", luas)"
      ],
      "metadata": {
        "colab": {
          "base_uri": "https://localhost:8080/"
        },
        "id": "mawaBQioFr3V",
        "outputId": "b664b3cc-1a2d-4039-c099-ea2d75880185"
      },
      "execution_count": null,
      "outputs": [
        {
          "output_type": "stream",
          "name": "stdout",
          "text": [
            "masukan jari - jari :3\n",
            "masukan n 22/7 atau 3.14: 3.14\n",
            "keliling lingkaran : 18.84 \n",
            "luas lingkaran : 28.259999999999998\n"
          ]
        }
      ]
    },
    {
      "cell_type": "markdown",
      "source": [
        "# Nomer 2"
      ],
      "metadata": {
        "id": "2HxBgVBGHR6B"
      }
    },
    {
      "cell_type": "code",
      "source": [
        "#kubus\n",
        "r = float(input(\"masukan rusuk :\"))\n",
        "\n",
        "\n",
        "volume =r**3\n",
        "luas = 6 * r * r\n",
        "print(\"volume kubus :\", volume ,\"\\nluas kubus :\", luas)"
      ],
      "metadata": {
        "colab": {
          "base_uri": "https://localhost:8080/"
        },
        "id": "NCUpsICQHWGZ",
        "outputId": "5b885226-c60d-4166-e167-994cbe147a8f"
      },
      "execution_count": null,
      "outputs": [
        {
          "output_type": "stream",
          "name": "stdout",
          "text": [
            "masukan rusuk :3\n",
            "volume lingkaran : 27.0 \n",
            "luas lingkaran : 54.0\n"
          ]
        }
      ]
    },
    {
      "cell_type": "code",
      "source": [
        "#balok\n",
        "p = float(input(\"masukan panjang :\"))\n",
        "l = float(input(\"masukan lebar :\"))\n",
        "t = float(input(\"masukan tinggi :\"))\n",
        "\n",
        "\n",
        "volume = p*l*t\n",
        "luas = 2*(p*t + p*l + l*t)\n",
        "print(\"volume balok :\", volume ,\"\\nluas balok :\", luas)"
      ],
      "metadata": {
        "colab": {
          "base_uri": "https://localhost:8080/"
        },
        "id": "M24RQGhrH_tG",
        "outputId": "ec78ff39-8f82-4592-f247-9568c3469e3f"
      },
      "execution_count": null,
      "outputs": [
        {
          "output_type": "stream",
          "name": "stdout",
          "text": [
            "masukan panjang :4\n",
            "masukan lebar :5\n",
            "masukan tinggi :6\n",
            "volume balok : 120.0 \n",
            "luas balok : 148.0\n"
          ]
        }
      ]
    },
    {
      "cell_type": "code",
      "source": [
        "#prisma\n",
        "a = float(input(\"masukan sisi  :\"))\n",
        "b = float(input(\"masukan sisi2  :\"))\n",
        "c = float(input(\"masukan sisi3 :\"))\n",
        "ta = float(input(\"masukan tinggi alas  :\"))\n",
        "t = float(input(\"masukan tinggi prisma  :\"))\n",
        "\n",
        "\n",
        "\n",
        "la = 1/2 * a * ta\n",
        "ka = a + b + c\n",
        "volume = la*t\n",
        "luas = 2*la*ka*t\n",
        "print(\"volume prisma :\", volume ,\"\\nluas prisma :\", luas)"
      ],
      "metadata": {
        "colab": {
          "base_uri": "https://localhost:8080/"
        },
        "id": "FdzWoM1oIBuK",
        "outputId": "0ee8f0d3-74e5-4197-d3ec-cd6658ebf1a1"
      },
      "execution_count": null,
      "outputs": [
        {
          "output_type": "stream",
          "name": "stdout",
          "text": [
            "masukan sisi  :3\n",
            "masukan sisi2  :2\n",
            "masukan sisi3 :4\n",
            "masukan tinggi alas  :5\n",
            "masukan tinggi prisma  :3\n",
            "volume prisma : 22.5 \n",
            "luas prisma : 405.0\n"
          ]
        }
      ]
    },
    {
      "cell_type": "code",
      "source": [
        ""
      ],
      "metadata": {
        "id": "Md13xg8rK4cq"
      },
      "execution_count": null,
      "outputs": []
    },
    {
      "cell_type": "code",
      "source": [
        "#limas\n",
        "a1 = float(input(\"masukan sisi miring :\"))\n",
        "b1 = float(input(\"masukan sisi2 miring  :\"))\n",
        "c1 = float(input(\"masukan sisi3 miring :\"))\n",
        "ta1 = float(input(\"masukan tinggi alas  :\"))\n",
        "a = float(input(\"masukan sisi miring2  :\"))\n",
        "b = float(input(\"masukan sisi2 miring2  :\"))\n",
        "c = float(input(\"masukan sisi3 miring2 :\"))\n",
        "ta = float(input(\"masukan tinggi alas2  :\"))\n",
        "t = float(input(\"masukan tinggi limas  :\"))\n",
        "p = float(input(\"masukan panjang persegi panjang :\"))\n",
        "l = float(input(\"masukan lebar persegi panjang:\"))\n",
        "\n",
        "lp = p * l\n",
        "ls = 1/2 * a1 * ta1\n",
        "ls2 = 1/2 * a * ta\n",
        "\n",
        "\n",
        "volume = 1/2*lp*t\n",
        "luas = lp*(ls+ls2)\n",
        "print(\"volume limas :\", volume ,\"\\nluas limas :\", luas)"
      ],
      "metadata": {
        "colab": {
          "base_uri": "https://localhost:8080/"
        },
        "id": "5xWGeR4eIERB",
        "outputId": "ab5fe2e6-3581-4d3f-e749-196bfed6bd7a"
      },
      "execution_count": null,
      "outputs": [
        {
          "output_type": "stream",
          "name": "stdout",
          "text": [
            "masukan sisi miring :3\n",
            "masukan sisi2 miring  :4\n",
            "masukan sisi3 miring :2\n",
            "masukan tinggi alas  :4\n",
            "masukan sisi miring2  :5\n",
            "masukan sisi2 miring2  :6\n",
            "masukan sisi3 miring2 :3\n",
            "masukan tinggi alas2  :5\n",
            "masukan tinggi limas  :6\n",
            "masukan panjang persegi panjang :6\n",
            "masukan lebar persegi panjang:4\n",
            "volume prisma : 72.0 \n",
            "luas prisma : 444.0\n"
          ]
        }
      ]
    },
    {
      "cell_type": "code",
      "source": [
        "#tabung\n",
        "r = float(input(\"masukan jari - jari :\"))\n",
        "n = float(input(\"masukan n 22/7 atau 3.14: \"))\n",
        "t = float(input(\"masukan tinggi :\"))\n",
        "volume= n*r*r*t\n",
        "luas =2* n * r * (t+r)\n",
        "\n",
        "print(\"volume tabung:\", volume ,\"\\nluas tabung :\", luas)"
      ],
      "metadata": {
        "colab": {
          "base_uri": "https://localhost:8080/"
        },
        "id": "PhtMgmCiIGCt",
        "outputId": "d8360038-6615-4844-c59a-2645b083e83d"
      },
      "execution_count": null,
      "outputs": [
        {
          "output_type": "stream",
          "name": "stdout",
          "text": [
            "masukan jari - jari :2\n",
            "masukan n 22/7 atau 3.14: 3.14\n",
            "masukan tinggi :5\n",
            "volume prisma : 62.800000000000004 \n",
            "luas prisma : 87.92\n"
          ]
        }
      ]
    },
    {
      "cell_type": "code",
      "source": [
        "#kerucut\n",
        "r = float(input(\"masukan jari - jari :\"))\n",
        "n = float(input(\"masukan n 22/7 atau 3.14: \"))\n",
        "t = float(input(\"masukan tinggi :\"))\n",
        "s  = float(input(\"masukan garis pelukis :\"))\n",
        "volume=1/2* n*r*r*t\n",
        "luas =2* n * r * (t+s)\n",
        "\n",
        "print(\"volume kerucut :\", volume ,\"\\nluas kerucut :\", luas)"
      ],
      "metadata": {
        "colab": {
          "base_uri": "https://localhost:8080/"
        },
        "id": "XChnIk2XIIqs",
        "outputId": "6a14b5e1-5f4e-42b5-e3ac-a9964cfafff6"
      },
      "execution_count": null,
      "outputs": [
        {
          "output_type": "stream",
          "name": "stdout",
          "text": [
            "masukan jari - jari :4\n",
            "masukan n 22/7 atau 3.14: 3.14\n",
            "masukan tinggi :6\n",
            "masukan garis pelukis :6\n",
            "volume kerucut : 150.72 \n",
            "luas kerucut : 301.44\n"
          ]
        }
      ]
    },
    {
      "cell_type": "code",
      "source": [
        "#bola\n",
        "r = float(input(\"masukan jari - jari :\"))\n",
        "n = float(input(\"masukan n 22/7 atau 3.14: \"))\n",
        "t = float(input(\"masukan tinggi :\"))\n",
        "volume= 4/3*n*r*r*t\n",
        "luas =4* n * r *t\n",
        "\n",
        "print(\"volume bola :\", volume ,\"\\nluas bola :\", luas)"
      ],
      "metadata": {
        "colab": {
          "base_uri": "https://localhost:8080/"
        },
        "id": "xItyx6hMIK6v",
        "outputId": "07ceeab1-f994-411c-d3a7-b0f129b2bc50"
      },
      "execution_count": null,
      "outputs": [
        {
          "output_type": "stream",
          "name": "stdout",
          "text": [
            "masukan jari - jari :4\n",
            "masukan n 22/7 atau 3.14: 3.14\n",
            "masukan tinggi :5\n",
            "volume bola : 334.93333333333334 \n",
            "luas bola : 251.20000000000002\n"
          ]
        }
      ]
    }
  ]
}